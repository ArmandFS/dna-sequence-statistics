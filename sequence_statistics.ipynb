{
 "cells": [
  {
   "cell_type": "code",
   "execution_count": 1,
   "metadata": {},
   "outputs": [],
   "source": [
    "from IPython.display import display\n",
    "from Bio import SeqIO\n",
    "import matplotlib.pyplot as plt\n",
    "import numpy as np\n",
    "import ipywidgets as widgets"
   ]
  },
  {
   "cell_type": "code",
   "execution_count": 3,
   "metadata": {},
   "outputs": [
    {
     "name": "stdout",
     "output_type": "stream",
     "text": [
      "ID: ref|XM_044419112.1|:1-663\n",
      "Name: ref|XM_044419112.1|:1-663\n",
      "Description: ref|XM_044419112.1|:1-663 PREDICTED: Varanus komodoensis neurturin (NRTN), transcript variant X1, mRNA\n",
      "Number of features: 0\n",
      "Seq('ATGAAGGTATGGAAGTTTGCAGCCATCGCCTCCATGGTTTTCAGTTCCATGCTG...TGA')\n",
      "\n",
      "Sequence Length = 663\n"
     ]
    }
   ],
   "source": [
    "\n",
    "#We first Specify the file path to the FASTA file\n",
    "fasta_file_path = \"XM_044419112.1[1..663].fa\"\n",
    "try:\n",
    "    #Read the FASTA file using SeqIO.read\n",
    "    record = SeqIO.read(fasta_file_path, \"fasta\")\n",
    "    #Print the sequence record and its length\n",
    "    print(str(record) + \"\\n\")\n",
    "    rec_seq = record.seq\n",
    "    len_seq = print(\"Sequence Length = \" + str(len(rec_seq)))\n",
    "except FileNotFoundError:\n",
    "    print(f\"File not found: {fasta_file_path}\")\n",
    "except Exception as e:\n",
    "    print(f\"An error occurred: {e}\")\n"
   ]
  },
  {
   "cell_type": "markdown",
   "metadata": {},
   "source": [
    "##### 2. Calculate Simple Statistics of each nitrogen base (C, G, A or T) over the total base pair."
   ]
  },
  {
   "cell_type": "code",
   "execution_count": 4,
   "metadata": {},
   "outputs": [
    {
     "name": "stdout",
     "output_type": "stream",
     "text": [
      "Total DNA A = 132\n",
      "Total DNA C = 198\n",
      "Total DNA G = 202\n",
      "Total DNA T = 131\n",
      "Total Noise/Error = 0\n",
      "\n",
      "Total Frequency\n",
      "\n",
      "Frequency A = 0.19909502262443438\n",
      "Frequency C = 0.2986425339366516\n",
      "Frequency G = 0.3046757164404223\n",
      "Frequency T = 0.1975867269984917\n"
     ]
    }
   ],
   "source": [
    "def DNAFrequency(A, C, G, T):\n",
    "    count_A = 0\n",
    "    count_C = 0\n",
    "    count_G = 0\n",
    "    count_T = 0\n",
    "    noise = 0\n",
    "    #iterate through each character\n",
    "    for char in rec_seq:\n",
    "        if char == A:\n",
    "            count_A += 1\n",
    "        elif char == C:\n",
    "            count_C += 1\n",
    "        elif char == G:\n",
    "            count_G += 1\n",
    "        elif char == T:\n",
    "            count_T += 1\n",
    "        elif char != A or C or G or T:\n",
    "            noise += 1\n",
    "    \n",
    "    total_A = print(\"Total DNA A = \"+ str(count_A))\n",
    "    total_C = print(\"Total DNA C = \"+ str(count_C))\n",
    "    total_G = print(\"Total DNA G = \"+ str(count_G))\n",
    "    total_T = print(\"Total DNA T = \"+ str(count_T))\n",
    "    total_noise = print(\"Total Noise/Error = \"+ str(noise))\n",
    "\n",
    "    print(\"\\nTotal Frequency\\n\")\n",
    "\n",
    "    print(\"Frequency A = \" + str(count_A/(len(rec_seq)-noise)))\n",
    "    print(\"Frequency C = \" + str(count_C/(len(rec_seq)-noise)))\n",
    "    print(\"Frequency G = \" + str(count_G/(len(rec_seq)-noise)))\n",
    "    print(\"Frequency T = \" + str(count_T/(len(rec_seq)-noise)))\n",
    "\n",
    " \n",
    "#call the dna frequency function\n",
    "DNAFrequency('A', 'C', 'G', 'T')\n"
   ]
  },
  {
   "cell_type": "markdown",
   "metadata": {},
   "source": [
    "##### Develop a sub program to do moving window for calculating frequency of each base nitrogen, to observe the unusual motif. Width of moving window can be decided by experimental approach to observe possibility of finding unusual motif at specific location. "
   ]
  },
  {
   "cell_type": "code",
   "execution_count": 5,
   "metadata": {},
   "outputs": [
    {
     "data": {
      "application/vnd.jupyter.widget-view+json": {
       "model_id": "070084fcc4724296bea90dd70830c17c",
       "version_major": 2,
       "version_minor": 0
      },
      "text/plain": [
       "interactive(children=(IntSlider(value=1, description='Window Size:', max=672, min=1), Output()), _dom_classes=…"
      ]
     },
     "execution_count": 5,
     "metadata": {},
     "output_type": "execute_result"
    }
   ],
   "source": [
    "#the recoreded dna sequence\n",
    "rec_seq = '''ATGAAGGTATGGAAGTTTGCAGCCATCGCCTCCATGGTTTTCAGTTCCATGCTGTCCATGTTGGTTTGCA\n",
    "GAGACCTGTTTGGAGGGAGCCCTGCATCTACCTTCTTCCCCTCAGCACTGTTCCCGAGAGCATCCTCACC\n",
    "GCCCCCTTGGCTCGCCGATGGTCAGAAGAGGCACCCGCGGGATCTGGAGCGCCGCAGCTCCCTGATCACC\n",
    "CAGTACAGCACGTTGTTCGAGAGCTACACTGAGGGAGAGATCCGGCAGCTCATCTCCACACTGATTGAGA\n",
    "GGTACAGCCAGTCCATGAACTCCGGGGGCCACGAACTGCCGCTCTTGGAGCGCGTGGGCACCCGGATGAA\n",
    "GCGTGCCAAGGCCCGGCACAAGCCCTGCTCCCTCAAGGAGCTGGAGGTGACGGTCAGCGAGCTGGGCCTG\n",
    "GGCTACAAGTCCGACGAGACTGTCTTGTTCCGCTACTGCAGCGGCACCTGTGACTCGGCTGTGCGGAACT\n",
    "ACGACCTCTCCTTGAAGAATGTCCGGAGCATGCGGAAGATCAAGAAGGAGAAGGTGCGAGCCCGTCCGTG\n",
    "CTGCCGGCCGCTCTCGTACGACGACGACGTTTCCTTCCTGGACACGGGAAACCGGTACTACACCGTGAAC\n",
    "GAGGTGTCGGCAAAGGAGTGTGGCTGCGTGTGA'''\n",
    "\n",
    "\n",
    "def calculate_base_frequencies(seq, window_size):\n",
    "    base_frequencies = {\n",
    "        'A': [],\n",
    "        'C': [],\n",
    "        'G': [],\n",
    "        'T': []\n",
    "    }\n",
    "\n",
    "    for i in range(len(seq) - window_size + 1):\n",
    "        window = seq[i:i + window_size]\n",
    "        window_length = len(window)\n",
    "\n",
    "        # Calculate frequencies of A, C, G, and T in the window\n",
    "        base_frequencies['A'].append(window.count('A') / window_length)\n",
    "        base_frequencies['C'].append(window.count('C') / window_length)\n",
    "        base_frequencies['G'].append(window.count('G') / window_length)\n",
    "        base_frequencies['T'].append(window.count('T') / window_length)\n",
    "\n",
    "    return base_frequencies\n",
    "\n",
    "# Define a function to calculate AT-GC density\n",
    "def calculate_at_gc_density(seq, window_size):\n",
    "    at_density = []\n",
    "    gc_density = []\n",
    "\n",
    "    for i in range(len(seq) - window_size + 1):\n",
    "        window = seq[i:i + window_size]\n",
    "        at_count = window.count('A') + window.count('T')\n",
    "        gc_count = window.count('G') + window.count('C')\n",
    "        window_length = len(window)\n",
    "\n",
    "        at_density.append(at_count / window_length)\n",
    "        gc_density.append(gc_count / window_length)\n",
    "\n",
    "    return at_density, gc_density\n",
    "\n",
    "# Define a function to plot base frequencies and AT-GC density\n",
    "def plot_base_frequencies_and_at_gc_density(window_size):\n",
    "    base_frequencies = calculate_base_frequencies(rec_seq, window_size)\n",
    "    at_density, gc_density = calculate_at_gc_density(rec_seq, window_size)\n",
    "    x = np.arange(len(base_frequencies['A']))\n",
    "    # Create subplots for base frequencies and AT-GC density\n",
    "    fig, (ax1, ax2) = plt.subplots(2, 1, figsize=(15, 10), sharex=True)\n",
    "    fig.suptitle(\"Base Frequencies and AT-GC Density in Moving Window\")\n",
    "    ax1.set_ylabel(\"Frequency\")\n",
    "    ax1.plot(x, base_frequencies['A'], label='A', color='blue')\n",
    "    ax1.plot(x, base_frequencies['C'], label='C', color='green')\n",
    "    ax1.plot(x, base_frequencies['G'], label='G', color='red')\n",
    "    ax1.plot(x, base_frequencies['T'], label='T', color='purple')\n",
    "    ax1.legend()\n",
    "    ax1.grid()\n",
    "    ax2.set_xlabel(\"Window Index\")\n",
    "    ax2.set_ylabel(\"Density\")\n",
    "    ax2.plot(x, at_density, label='AT Density', color='blue')\n",
    "    ax2.plot(x, gc_density, label='GC Density', color='green')\n",
    "    ax2.legend()\n",
    "    ax2.grid()\n",
    "    plt.tight_layout()\n",
    "    plt.show()\n",
    "\n",
    "# Create an interactive widget to adjust the window size\n",
    "window_size_widget = widgets.IntSlider(value=1, min=1, max=len(rec_seq), description='Window Size:')\n",
    "widgets.interactive(plot_base_frequencies_and_at_gc_density, window_size=window_size_widget)"
   ]
  },
  {
   "cell_type": "markdown",
   "metadata": {},
   "source": [
    "##### Do the process for Dimer (CG, AT)"
   ]
  },
  {
   "cell_type": "code",
   "execution_count": 7,
   "metadata": {},
   "outputs": [
    {
     "name": "stdout",
     "output_type": "stream",
     "text": [
      "2-Mer Frequencies\n",
      "AA : 0.03273809523809524\tAC : 0.07142857142857142\tAG : 0.07738095238095238\tAT : 0.03571428571428571\n",
      "CA : 0.050595238095238096\tCC : 0.09523809523809523\tCG : 0.06845238095238096\tAT : 0.06547619047619048\n",
      "GA : 0.07142857142857142\tGC : 0.08333333333333333\tGG : 0.07142857142857142\tGT : 0.06845238095238096\n",
      "TA : 0.011904761904761904\tTC : 0.05357142857142857\tTG : 0.07142857142857142\tTT : 0.041666666666666664\n"
     ]
    }
   ],
   "source": [
    "def dimer():\n",
    "    AA, AT, AG, AC = 0,0,0,0\n",
    "    TA, TT, TG, TC = 0,0,0,0\n",
    "    GA, GT, GG, GC = 0,0,0,0\n",
    "    CA, CT, CG, CC = 0,0,0,0\n",
    "    for i in range((len(rec_seq)//2)-1):\n",
    "        if rec_seq[i*2] == 'A':\n",
    "            if rec_seq[i*2+1] == 'A':\n",
    "                AA +=1\n",
    "            elif rec_seq[i*2+1] == 'T':\n",
    "                AT +=1\n",
    "            elif rec_seq[i*2+1] == 'G':\n",
    "                AG +=1\n",
    "            elif rec_seq[i*2+1] == 'C':\n",
    "                AC +=1\n",
    "        if rec_seq[i*2] == 'T':\n",
    "            if rec_seq[i*2+1] == 'A':\n",
    "                TA += 1\n",
    "            elif rec_seq[i*2+1] == 'T':\n",
    "                TT += 1\n",
    "            elif rec_seq[i*2+1] == 'G':\n",
    "                TG += 1\n",
    "            elif rec_seq[i*2+1] == 'C':\n",
    "                TC += 1\n",
    "        if rec_seq[i*2] == 'G':\n",
    "            if rec_seq[i*2+1] == 'A':\n",
    "                GA += 1\n",
    "            elif rec_seq[i*2+1] == 'T':\n",
    "                GT += 1\n",
    "            elif rec_seq[i*2+1] == 'G':\n",
    "                GG += 1\n",
    "            elif rec_seq[i*2+1] == 'C':\n",
    "                GC += 1\n",
    "        if rec_seq[i*2] == 'C':\n",
    "            if rec_seq[i*2+1] == 'A':\n",
    "                CA += 1\n",
    "            elif rec_seq[i*2+1] == 'T':\n",
    "                CT += 1\n",
    "            elif rec_seq[i*2+1] == 'G':\n",
    "                CG += 1\n",
    "            elif rec_seq[i*2+1] == 'C':\n",
    "                CC += 1\n",
    "    \n",
    "    dAA, dAT, dAG, dAC = AA/(len(rec_seq)/2), AT/(len(rec_seq)/2), AG/(len(rec_seq)/2), AC/(len(rec_seq)/2)\n",
    "    dTA, dTT, dTG, dTC = TA/(len(rec_seq)/2), TT/(len(rec_seq)/2), TG/(len(rec_seq)/2), TC/(len(rec_seq)/2)\n",
    "    dGA, dGT, dGG, dGC = GA/(len(rec_seq)/2), GT/(len(rec_seq)/2), GG/(len(rec_seq)/2), GC/(len(rec_seq)/2)\n",
    "    dCA, dCT, dCG, dCC = CA/(len(rec_seq)/2), CT/(len(rec_seq)/2), CG/(len(rec_seq)/2), CC/(len(rec_seq)/2)\n",
    "\n",
    "    print(\"2-Mer Frequencies\")\n",
    "    print(\"AA : \" + str(dAA) + \"\\tAC : \" + str(dAC)+\"\\tAG : \"+str(dAG)+\"\\tAT : \"+str(dAT))\n",
    "    print(\"CA : \" + str(dCA) + \"\\tCC : \" + str(dCC)+\"\\tCG : \"+str(dCG)+\"\\tAT : \"+str(dCT))\n",
    "    print(\"GA : \" + str(dGA) + \"\\tGC : \" + str(dGC)+\"\\tGG : \"+str(dGG)+\"\\tGT : \"+str(dGT))\n",
    "    print(\"TA : \" + str(dTA) + \"\\tTC : \" + str(dTC)+\"\\tTG : \"+str(dTG)+\"\\tTT : \"+str(dTT))\n",
    "\n",
    "dimer()\n"
   ]
  }
 ],
 "metadata": {
  "kernelspec": {
   "display_name": "Python 3",
   "language": "python",
   "name": "python3"
  },
  "language_info": {
   "codemirror_mode": {
    "name": "ipython",
    "version": 3
   },
   "file_extension": ".py",
   "mimetype": "text/x-python",
   "name": "python",
   "nbconvert_exporter": "python",
   "pygments_lexer": "ipython3",
   "version": "3.11.3"
  },
  "orig_nbformat": 4
 },
 "nbformat": 4,
 "nbformat_minor": 2
}
